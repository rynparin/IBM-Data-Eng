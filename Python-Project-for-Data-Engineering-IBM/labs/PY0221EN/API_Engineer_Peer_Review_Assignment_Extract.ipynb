{
 "cells": [
  {
   "cell_type": "markdown",
   "metadata": {},
   "source": [
    "<p style=\"text-align:center\">\n",
    "    <a href=\"https://skills.network/?utm_medium=Exinfluencer&utm_source=Exinfluencer&utm_content=000026UJ&utm_term=10006555&utm_id=NA-SkillsNetwork-Channel-SkillsNetworkCoursesIBMDeveloperSkillsNetworkPY0221ENSkillsNetwork23455645-2022-01-01\" target=\"_blank\">\n",
    "    <img src=\"https://cf-courses-data.s3.us.cloud-object-storage.appdomain.cloud/assets/logos/SN_web_lightmode.png\" width=\"200\" alt=\"Skills Network Logo\"  />\n",
    "    </a>\n",
    "</p>\n"
   ]
  },
  {
   "cell_type": "markdown",
   "metadata": {},
   "source": [
    "# Peer Review Assignment - Data Engineer - Extract API Data\n"
   ]
  },
  {
   "cell_type": "markdown",
   "metadata": {},
   "source": [
    "Estimated time needed: **20** minutes\n"
   ]
  },
  {
   "cell_type": "markdown",
   "metadata": {},
   "source": [
    "## Objectives\n",
    "\n",
    "In this part you will:\n",
    "\n",
    "*   Collect exchange rate data using an API\n",
    "*   Store the data as a CSV\n"
   ]
  },
  {
   "cell_type": "markdown",
   "metadata": {},
   "source": [
    "For this lab, we are going to be using Python and several Python libraries. Some of these libraries might be installed in your lab environment or in SN Labs. Others may need to be installed by you. The cells below will install these libraries when executed.\n"
   ]
  },
  {
   "cell_type": "code",
   "execution_count": 1,
   "metadata": {},
   "outputs": [],
   "source": [
    "#!mamba install pandas==1.3.3 -y\n",
    "#!mamba install requests==2.26.0 -y"
   ]
  },
  {
   "cell_type": "markdown",
   "metadata": {},
   "source": [
    "## Imports\n",
    "\n",
    "Import any additional libraries you may need here.\n"
   ]
  },
  {
   "cell_type": "code",
   "execution_count": 2,
   "metadata": {},
   "outputs": [],
   "source": [
    "import requests\n",
    "import pandas as pd"
   ]
  },
  {
   "cell_type": "markdown",
   "metadata": {},
   "source": [
    "## Extract Data Using an API\n"
   ]
  },
  {
   "cell_type": "markdown",
   "metadata": {},
   "source": [
    "Using ExchangeRate-API we will extract currency exchange rate data. Use the below steps to get the access key and to get the data.\n",
    "\n",
    "1.  Open the url : [https://exchangeratesapi.io/](https://exchangeratesapi.io/?utm_medium=Exinfluencer&utm_source=Exinfluencer&utm_content=000026UJ&utm_term=10006555&utm_id=NA-SkillsNetwork-Channel-SkillsNetworkCoursesIBMDeveloperSkillsNetworkPY0221ENSkillsNetwork23455645-2022-01-01) and click on **Get Free API Key**.\n",
    "2.  Subscribe for Free plan and Sign-in with the Google Account.\n",
    "3.  Once the account is created you will be redirected to [https://apilayer.com](https://apilayer.com/?utm_medium=Exinfluencer&utm_source=Exinfluencer&utm_content=000026UJ&utm_term=10006555&utm_id=NA-SkillsNetwork-Channel-SkillsNetworkCoursesIBMDeveloperSkillsNetworkPY0221ENSkillsNetwork23455645-2022-01-01) website.\n",
    "4.  Now, click on the **user icon** and click **Account** as shown below:\n",
    "\n",
    "<img src=\"https://cf-courses-data.s3.us.cloud-object-storage.appdomain.cloud/IBMDeveloperSkillsNetwork-PY0221EN-SkillsNetwork/labs/module%206/Final%20Assignment/Images/account.png\"/>\n",
    "\n",
    "3.  Scroll down and you will get the API Key section. Copy the API key and use in the url in Question 1.\n"
   ]
  },
  {
   "cell_type": "markdown",
   "metadata": {},
   "source": [
    "### Call the API\n",
    "\n",
    "<b> Question 1</b> Using the `requests` library call the endpoint given above and save the text, remember the first few characters of the output:\n"
   ]
  },
  {
   "cell_type": "code",
   "execution_count": 3,
   "metadata": {},
   "outputs": [],
   "source": [
    "# Write your code here\n",
    "url = \"https://api.apilayer.com/exchangerates_data/latest?base=EUR&apikey=b1DoKSFji2FDeXGyKKEubq1zCgLnFE1F\" #Make sure to change ******* to your API key."
   ]
  },
  {
   "cell_type": "markdown",
   "metadata": {},
   "source": [
    "### Save as DataFrame\n",
    "\n",
    "<b> Question 2</b>  Using the data gathered turn it into a `pandas` dataframe. The dataframe should have the Currency as the index and `Rate` as their columns. Make sure to drop unnecessary columns.\n"
   ]
  },
  {
   "cell_type": "code",
   "execution_count": 4,
   "metadata": {},
   "outputs": [
    {
     "data": {
      "text/plain": [
       "{'success': True,\n",
       " 'timestamp': 1659512524,\n",
       " 'base': 'EUR',\n",
       " 'date': '2022-08-03',\n",
       " 'rates': {'AED': 3.740109,\n",
       "  'AFN': 91.959684,\n",
       "  'ALL': 116.889238,\n",
       "  'AMD': 416.488593,\n",
       "  'ANG': 1.847514,\n",
       "  'AOA': 439.944657,\n",
       "  'ARS': 134.554743,\n",
       "  'AUD': 1.468604,\n",
       "  'AWG': 1.832873,\n",
       "  'AZN': 1.730013,\n",
       "  'BAM': 1.960456,\n",
       "  'BBD': 2.069845,\n",
       "  'BDT': 97.102007,\n",
       "  'BGN': 1.958811,\n",
       "  'BHD': 0.383929,\n",
       "  'BIF': 2112.65695,\n",
       "  'BMD': 1.018263,\n",
       "  'BND': 1.414379,\n",
       "  'BOB': 7.037304,\n",
       "  'BRL': 5.375914,\n",
       "  'BSD': 1.025149,\n",
       "  'BTC': 4.4227149e-05,\n",
       "  'BTN': 80.606896,\n",
       "  'BWP': 12.846188,\n",
       "  'BYN': 2.587982,\n",
       "  'BYR': 19957.945757,\n",
       "  'BZD': 2.066336,\n",
       "  'CAD': 1.31003,\n",
       "  'CDF': 2037.543438,\n",
       "  'CHF': 0.974594,\n",
       "  'CLF': 0.033574,\n",
       "  'CLP': 926.404969,\n",
       "  'CNY': 6.876533,\n",
       "  'COP': 4386.125155,\n",
       "  'CRC': 685.076587,\n",
       "  'CUC': 1.018263,\n",
       "  'CUP': 26.983957,\n",
       "  'CVE': 110.524692,\n",
       "  'CZK': 24.644197,\n",
       "  'DJF': 182.495967,\n",
       "  'DKK': 7.443428,\n",
       "  'DOP': 55.853429,\n",
       "  'DZD': 148.21797,\n",
       "  'EGP': 19.370765,\n",
       "  'ERN': 15.273938,\n",
       "  'ETB': 53.954092,\n",
       "  'EUR': 1,\n",
       "  'FJD': 2.236054,\n",
       "  'FKP': 0.85772,\n",
       "  'GBP': 0.834833,\n",
       "  'GEL': 2.774756,\n",
       "  'GGP': 0.85772,\n",
       "  'GHS': 8.789967,\n",
       "  'GIP': 0.85772,\n",
       "  'GMD': 55.648234,\n",
       "  'GNF': 8865.779559,\n",
       "  'GTQ': 7.92903,\n",
       "  'GYD': 214.592104,\n",
       "  'HKD': 7.993254,\n",
       "  'HNL': 25.223256,\n",
       "  'HRK': 7.514576,\n",
       "  'HTG': 120.451749,\n",
       "  'HUF': 396.552186,\n",
       "  'IDR': 15173.639219,\n",
       "  'ILS': 3.428811,\n",
       "  'IMP': 0.85772,\n",
       "  'INR': 80.374923,\n",
       "  'IQD': 1496.149475,\n",
       "  'IRR': 43072.505249,\n",
       "  'ISK': 139.287827,\n",
       "  'JEP': 0.85772,\n",
       "  'JMD': 156.843686,\n",
       "  'JOD': 0.722765,\n",
       "  'JPY': 135.529215,\n",
       "  'KES': 121.275384,\n",
       "  'KGS': 84.657373,\n",
       "  'KHR': 4203.04069,\n",
       "  'KMF': 491.296518,\n",
       "  'KPW': 916.436276,\n",
       "  'KRW': 1335.914625,\n",
       "  'KWD': 0.31227,\n",
       "  'KYD': 0.854232,\n",
       "  'KZT': 486.156611,\n",
       "  'LAK': 15462.286177,\n",
       "  'LBP': 1550.002819,\n",
       "  'LKR': 374.179407,\n",
       "  'LRD': 156.812387,\n",
       "  'LSL': 17.024758,\n",
       "  'LTL': 3.006665,\n",
       "  'LVL': 0.615937,\n",
       "  'LYD': 4.983906,\n",
       "  'MAD': 10.582469,\n",
       "  'MDL': 19.789782,\n",
       "  'MGA': 4313.213884,\n",
       "  'MKD': 61.761329,\n",
       "  'MMK': 1898.016994,\n",
       "  'MNT': 3202.089467,\n",
       "  'MOP': 8.288319,\n",
       "  'MRO': 363.519551,\n",
       "  'MUR': 46.482213,\n",
       "  'MVR': 15.752927,\n",
       "  'MWK': 1052.915321,\n",
       "  'MXN': 21.090794,\n",
       "  'MYR': 4.538384,\n",
       "  'MZN': 64.995482,\n",
       "  'NAD': 17.025713,\n",
       "  'NGN': 424.004263,\n",
       "  'NIO': 36.806928,\n",
       "  'NOK': 9.91664,\n",
       "  'NPR': 128.976112,\n",
       "  'NZD': 1.626084,\n",
       "  'OMR': 0.392023,\n",
       "  'PAB': 1.025018,\n",
       "  'PEN': 3.982355,\n",
       "  'PGK': 3.612129,\n",
       "  'PHP': 56.74115,\n",
       "  'PKR': 244.030768,\n",
       "  'PLN': 4.709774,\n",
       "  'PYG': 7024.581099,\n",
       "  'QAR': 3.707517,\n",
       "  'RON': 4.926332,\n",
       "  'RSD': 117.363428,\n",
       "  'RUB': 61.32489,\n",
       "  'RWF': 1053.195992,\n",
       "  'SAR': 3.829175,\n",
       "  'SBD': 8.363588,\n",
       "  'SCR': 13.250481,\n",
       "  'SDG': 577.354705,\n",
       "  'SEK': 10.409668,\n",
       "  'SGD': 1.405676,\n",
       "  'SHP': 1.402551,\n",
       "  'SLL': 14108.027708,\n",
       "  'SOS': 593.64689,\n",
       "  'SRD': 24.989688,\n",
       "  'STD': 21075.978686,\n",
       "  'SVC': 8.969339,\n",
       "  'SYP': 2558.414599,\n",
       "  'SZL': 17.00372,\n",
       "  'THB': 36.902255,\n",
       "  'TJS': 10.471203,\n",
       "  'TMT': 3.574102,\n",
       "  'TND': 3.183596,\n",
       "  'TOP': 2.384566,\n",
       "  'TRY': 18.282013,\n",
       "  'TTD': 6.955949,\n",
       "  'TWD': 30.560398,\n",
       "  'TZS': 2374.588683,\n",
       "  'UAH': 37.859343,\n",
       "  'UGX': 3976.303787,\n",
       "  'USD': 1.018263,\n",
       "  'UYU': 41.977632,\n",
       "  'UZS': 11235.425262,\n",
       "  'VND': 23798.832053,\n",
       "  'VUV': 121.067368,\n",
       "  'WST': 2.770662,\n",
       "  'XAF': 657.527775,\n",
       "  'XAG': 0.051166,\n",
       "  'XAU': 0.000576,\n",
       "  'XCD': 2.751905,\n",
       "  'XDR': 0.773849,\n",
       "  'XOF': 657.527775,\n",
       "  'XPF': 119.644585,\n",
       "  'YER': 254.820066,\n",
       "  'ZAR': 17.021327,\n",
       "  'ZMK': 9165.59148,\n",
       "  'ZMW': 16.376322,\n",
       "  'ZWL': 327.880122}}"
      ]
     },
     "execution_count": 4,
     "metadata": {},
     "output_type": "execute_result"
    }
   ],
   "source": [
    "# Turn the data into a dataframe\n",
    "response = requests.get(url)\n",
    "response.json()"
   ]
  },
  {
   "cell_type": "code",
   "execution_count": 5,
   "metadata": {},
   "outputs": [
    {
     "data": {
      "text/html": [
       "<div>\n",
       "<style scoped>\n",
       "    .dataframe tbody tr th:only-of-type {\n",
       "        vertical-align: middle;\n",
       "    }\n",
       "\n",
       "    .dataframe tbody tr th {\n",
       "        vertical-align: top;\n",
       "    }\n",
       "\n",
       "    .dataframe thead th {\n",
       "        text-align: right;\n",
       "    }\n",
       "</style>\n",
       "<table border=\"1\" class=\"dataframe\">\n",
       "  <thead>\n",
       "    <tr style=\"text-align: right;\">\n",
       "      <th></th>\n",
       "      <th>success</th>\n",
       "      <th>timestamp</th>\n",
       "      <th>base</th>\n",
       "      <th>date</th>\n",
       "      <th>rates</th>\n",
       "    </tr>\n",
       "  </thead>\n",
       "  <tbody>\n",
       "    <tr>\n",
       "      <th>AED</th>\n",
       "      <td>True</td>\n",
       "      <td>1659512524</td>\n",
       "      <td>EUR</td>\n",
       "      <td>2022-08-03</td>\n",
       "      <td>3.740109</td>\n",
       "    </tr>\n",
       "    <tr>\n",
       "      <th>AFN</th>\n",
       "      <td>True</td>\n",
       "      <td>1659512524</td>\n",
       "      <td>EUR</td>\n",
       "      <td>2022-08-03</td>\n",
       "      <td>91.959684</td>\n",
       "    </tr>\n",
       "    <tr>\n",
       "      <th>ALL</th>\n",
       "      <td>True</td>\n",
       "      <td>1659512524</td>\n",
       "      <td>EUR</td>\n",
       "      <td>2022-08-03</td>\n",
       "      <td>116.889238</td>\n",
       "    </tr>\n",
       "    <tr>\n",
       "      <th>AMD</th>\n",
       "      <td>True</td>\n",
       "      <td>1659512524</td>\n",
       "      <td>EUR</td>\n",
       "      <td>2022-08-03</td>\n",
       "      <td>416.488593</td>\n",
       "    </tr>\n",
       "    <tr>\n",
       "      <th>ANG</th>\n",
       "      <td>True</td>\n",
       "      <td>1659512524</td>\n",
       "      <td>EUR</td>\n",
       "      <td>2022-08-03</td>\n",
       "      <td>1.847514</td>\n",
       "    </tr>\n",
       "    <tr>\n",
       "      <th>...</th>\n",
       "      <td>...</td>\n",
       "      <td>...</td>\n",
       "      <td>...</td>\n",
       "      <td>...</td>\n",
       "      <td>...</td>\n",
       "    </tr>\n",
       "    <tr>\n",
       "      <th>YER</th>\n",
       "      <td>True</td>\n",
       "      <td>1659512524</td>\n",
       "      <td>EUR</td>\n",
       "      <td>2022-08-03</td>\n",
       "      <td>254.820066</td>\n",
       "    </tr>\n",
       "    <tr>\n",
       "      <th>ZAR</th>\n",
       "      <td>True</td>\n",
       "      <td>1659512524</td>\n",
       "      <td>EUR</td>\n",
       "      <td>2022-08-03</td>\n",
       "      <td>17.021327</td>\n",
       "    </tr>\n",
       "    <tr>\n",
       "      <th>ZMK</th>\n",
       "      <td>True</td>\n",
       "      <td>1659512524</td>\n",
       "      <td>EUR</td>\n",
       "      <td>2022-08-03</td>\n",
       "      <td>9165.591480</td>\n",
       "    </tr>\n",
       "    <tr>\n",
       "      <th>ZMW</th>\n",
       "      <td>True</td>\n",
       "      <td>1659512524</td>\n",
       "      <td>EUR</td>\n",
       "      <td>2022-08-03</td>\n",
       "      <td>16.376322</td>\n",
       "    </tr>\n",
       "    <tr>\n",
       "      <th>ZWL</th>\n",
       "      <td>True</td>\n",
       "      <td>1659512524</td>\n",
       "      <td>EUR</td>\n",
       "      <td>2022-08-03</td>\n",
       "      <td>327.880122</td>\n",
       "    </tr>\n",
       "  </tbody>\n",
       "</table>\n",
       "<p>167 rows × 5 columns</p>\n",
       "</div>"
      ],
      "text/plain": [
       "     success   timestamp base        date        rates\n",
       "AED     True  1659512524  EUR  2022-08-03     3.740109\n",
       "AFN     True  1659512524  EUR  2022-08-03    91.959684\n",
       "ALL     True  1659512524  EUR  2022-08-03   116.889238\n",
       "AMD     True  1659512524  EUR  2022-08-03   416.488593\n",
       "ANG     True  1659512524  EUR  2022-08-03     1.847514\n",
       "..       ...         ...  ...         ...          ...\n",
       "YER     True  1659512524  EUR  2022-08-03   254.820066\n",
       "ZAR     True  1659512524  EUR  2022-08-03    17.021327\n",
       "ZMK     True  1659512524  EUR  2022-08-03  9165.591480\n",
       "ZMW     True  1659512524  EUR  2022-08-03    16.376322\n",
       "ZWL     True  1659512524  EUR  2022-08-03   327.880122\n",
       "\n",
       "[167 rows x 5 columns]"
      ]
     },
     "execution_count": 5,
     "metadata": {},
     "output_type": "execute_result"
    }
   ],
   "source": [
    "dataframe = pd.DataFrame(response.json())\n",
    "dataframe"
   ]
  },
  {
   "cell_type": "code",
   "execution_count": 6,
   "metadata": {},
   "outputs": [
    {
     "data": {
      "text/html": [
       "<div>\n",
       "<style scoped>\n",
       "    .dataframe tbody tr th:only-of-type {\n",
       "        vertical-align: middle;\n",
       "    }\n",
       "\n",
       "    .dataframe tbody tr th {\n",
       "        vertical-align: top;\n",
       "    }\n",
       "\n",
       "    .dataframe thead th {\n",
       "        text-align: right;\n",
       "    }\n",
       "</style>\n",
       "<table border=\"1\" class=\"dataframe\">\n",
       "  <thead>\n",
       "    <tr style=\"text-align: right;\">\n",
       "      <th></th>\n",
       "      <th>rates</th>\n",
       "    </tr>\n",
       "  </thead>\n",
       "  <tbody>\n",
       "    <tr>\n",
       "      <th>AED</th>\n",
       "      <td>3.740109</td>\n",
       "    </tr>\n",
       "    <tr>\n",
       "      <th>AFN</th>\n",
       "      <td>91.959684</td>\n",
       "    </tr>\n",
       "    <tr>\n",
       "      <th>ALL</th>\n",
       "      <td>116.889238</td>\n",
       "    </tr>\n",
       "    <tr>\n",
       "      <th>AMD</th>\n",
       "      <td>416.488593</td>\n",
       "    </tr>\n",
       "    <tr>\n",
       "      <th>ANG</th>\n",
       "      <td>1.847514</td>\n",
       "    </tr>\n",
       "    <tr>\n",
       "      <th>...</th>\n",
       "      <td>...</td>\n",
       "    </tr>\n",
       "    <tr>\n",
       "      <th>YER</th>\n",
       "      <td>254.820066</td>\n",
       "    </tr>\n",
       "    <tr>\n",
       "      <th>ZAR</th>\n",
       "      <td>17.021327</td>\n",
       "    </tr>\n",
       "    <tr>\n",
       "      <th>ZMK</th>\n",
       "      <td>9165.591480</td>\n",
       "    </tr>\n",
       "    <tr>\n",
       "      <th>ZMW</th>\n",
       "      <td>16.376322</td>\n",
       "    </tr>\n",
       "    <tr>\n",
       "      <th>ZWL</th>\n",
       "      <td>327.880122</td>\n",
       "    </tr>\n",
       "  </tbody>\n",
       "</table>\n",
       "<p>167 rows × 1 columns</p>\n",
       "</div>"
      ],
      "text/plain": [
       "           rates\n",
       "AED     3.740109\n",
       "AFN    91.959684\n",
       "ALL   116.889238\n",
       "AMD   416.488593\n",
       "ANG     1.847514\n",
       "..           ...\n",
       "YER   254.820066\n",
       "ZAR    17.021327\n",
       "ZMK  9165.591480\n",
       "ZMW    16.376322\n",
       "ZWL   327.880122\n",
       "\n",
       "[167 rows x 1 columns]"
      ]
     },
     "execution_count": 6,
     "metadata": {},
     "output_type": "execute_result"
    }
   ],
   "source": [
    "# Drop unnescessary columns\n",
    "dataframe.drop(columns=[\"success\", \"timestamp\", \"base\", \"date\"], inplace=True)\n",
    "dataframe"
   ]
  },
  {
   "cell_type": "markdown",
   "metadata": {},
   "source": [
    "### Load the Data\n",
    "\n",
    "Using the dataframe save it as a CSV names `exchange_rates_1.csv`.\n"
   ]
  },
  {
   "cell_type": "code",
   "execution_count": 7,
   "metadata": {},
   "outputs": [],
   "source": [
    "# Save the Dataframe\n",
    "dataframe.to_csv(\"exchange_rates_1.csv\")"
   ]
  },
  {
   "cell_type": "markdown",
   "metadata": {},
   "source": [
    "Your CSV should be in this format with more currencies\n",
    "\n",
    "|     | Rates      |\n",
    "| --- | ---------- |\n",
    "| AED | 4.398618   |\n",
    "| AFN | 92.917693  |\n",
    "| ALL | 123.099093 |\n",
    "| AMD | 621.935674 |\n",
    "| ANG | 2.149648   |\n"
   ]
  },
  {
   "cell_type": "markdown",
   "metadata": {},
   "source": [
    "## Authors\n"
   ]
  },
  {
   "cell_type": "markdown",
   "metadata": {},
   "source": [
    "Ramesh Sannareddy, Joseph Santarcangelo and Azim Hirjani\n"
   ]
  },
  {
   "cell_type": "markdown",
   "metadata": {},
   "source": [
    "### Other Contributors\n"
   ]
  },
  {
   "cell_type": "markdown",
   "metadata": {},
   "source": [
    "Rav Ahuja\n"
   ]
  },
  {
   "cell_type": "markdown",
   "metadata": {},
   "source": [
    "## Change Log\n"
   ]
  },
  {
   "cell_type": "markdown",
   "metadata": {},
   "source": [
    "| Date (YYYY-MM-DD) | Version | Changed By        | Change Description                              |\n",
    "| ----------------- | ------- | ----------------- | ----------------------------------------------- |\n",
    "| 2022-05-06        | 0.3     | Malika            | Updated instructions to get the API and the url |\n",
    "| 2021-04-15        | 0.2     | Malika            | Updated the lab from USD to EUR                 |\n",
    "| 2020-11-25        | 0.1     | Ramesh Sannareddy | Created initial version of the lab              |\n"
   ]
  },
  {
   "cell_type": "markdown",
   "metadata": {},
   "source": [
    "Copyright © 2020 IBM Corporation. This notebook and its source code are released under the terms of the [MIT License](https://cognitiveclass.ai/mit-license?utm_medium=Exinfluencer&utm_source=Exinfluencer&utm_content=000026UJ&utm_term=10006555&utm_id=NA-SkillsNetwork-Channel-SkillsNetworkCoursesIBMDeveloperSkillsNetworkPY0221ENSkillsNetwork23455645-2022-01-01&cm_mmc=Email_Newsletter-\\_-Developer_Ed%2BTech-\\_-WW_WW-\\_-SkillsNetwork-Courses-IBM-DA0321EN-SkillsNetwork-21426264&cm_mmca1=000026UJ&cm_mmca2=10006555&cm_mmca3=M12345678&cvosrc=email.Newsletter.M12345678&cvo_campaign=000026UJ).\n"
   ]
  }
 ],
 "metadata": {
  "kernelspec": {
   "display_name": "Python",
   "language": "python",
   "name": "conda-env-python-py"
  },
  "language_info": {
   "codemirror_mode": {
    "name": "ipython",
    "version": 3
   },
   "file_extension": ".py",
   "mimetype": "text/x-python",
   "name": "python",
   "nbconvert_exporter": "python",
   "pygments_lexer": "ipython3",
   "version": "3.7.12"
  }
 },
 "nbformat": 4,
 "nbformat_minor": 4
}
